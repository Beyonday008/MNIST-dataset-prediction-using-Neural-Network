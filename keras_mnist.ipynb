{
 "cells": [
  {
   "cell_type": "code",
   "execution_count": null,
   "metadata": {},
   "outputs": [],
   "source": []
  },
  {
   "cell_type": "code",
   "execution_count": 2,
   "metadata": {},
   "outputs": [
    {
     "name": "stderr",
     "output_type": "stream",
     "text": [
      "Using TensorFlow backend.\n"
     ]
    },
    {
     "name": "stdout",
     "output_type": "stream",
     "text": [
      "(60000,)\n"
     ]
    }
   ],
   "source": [
    "from keras.datasets import mnist \n",
    "\n",
    "#Now loets our mnist dataset\n",
    "\n",
    "(x_train,y_train) , (x_test,y_test)=mnist.load_data()\n",
    "\n",
    "#mow lets explore our dataset a little bit\n",
    "\n",
    "print(y_train.shape)#it tell us the label rows of our train \n"
   ]
  },
  {
   "cell_type": "code",
   "execution_count": 3,
   "metadata": {},
   "outputs": [
    {
     "name": "stdout",
     "output_type": "stream",
     "text": [
      "Initial shape of dimensions of x train (60000, 28, 28)\n",
      "Number of samples in out training data :  60000\n",
      "Number of label in our training data:  60000\n",
      "Number of samples in our test data :  10000\n",
      "Number of label in our test_data :  10000\n",
      "\n",
      "Dimension of x_train(28, 28)\n",
      "Label of x_train(60000,)\n",
      "\n",
      "Dimensions of x_test(28, 28)\n",
      "Label of y_test(10000,)\n"
     ]
    }
   ],
   "source": [
    "#Lets explore our dataset a bit more\n",
    "\n",
    "print(\"Initial shape of dimensions of x train\",str(x_train.shape))\n",
    "print(\"Number of samples in out training data : \",str(len(x_train)))\n",
    "print(\"Number of label in our training data: \",str(len(y_train)))\n",
    "print(\"Number of samples in our test data : \",str(len(x_test)))\n",
    "print(\"Number of label in our test_data : \",str(len(y_test)))\n",
    "print()\n",
    "print(\"Dimension of x_train\" + str(x_train[0].shape))\n",
    "print(\"Label of x_train\" + str(y_train.shape))\n",
    "print()\n",
    "print(\"Dimensions of x_test\" + str(x_train[0].shape))\n",
    "print(\"Label of y_test\" + str(y_test.shape))\n"
   ]
  },
  {
   "cell_type": "code",
   "execution_count": 4,
   "metadata": {},
   "outputs": [
    {
     "ename": "TypeError",
     "evalue": "'type' object is not subscriptable",
     "output_type": "error",
     "traceback": [
      "\u001b[1;31m---------------------------------------------------------------------------\u001b[0m",
      "\u001b[1;31mTypeError\u001b[0m                                 Traceback (most recent call last)",
      "\u001b[1;32m<ipython-input-4-2b0b95d746d8>\u001b[0m in \u001b[0;36m<module>\u001b[1;34m\u001b[0m\n\u001b[0;32m      7\u001b[0m     \u001b[0mrandom_num\u001b[0m \u001b[1;33m=\u001b[0m \u001b[0mnp\u001b[0m\u001b[1;33m.\u001b[0m\u001b[0mrandom\u001b[0m\u001b[1;33m.\u001b[0m\u001b[0mrandint\u001b[0m\u001b[1;33m(\u001b[0m\u001b[1;36m0\u001b[0m\u001b[1;33m,\u001b[0m\u001b[0mlen\u001b[0m\u001b[1;33m(\u001b[0m\u001b[0mx_train\u001b[0m\u001b[1;33m)\u001b[0m\u001b[1;33m)\u001b[0m\u001b[1;33m\u001b[0m\u001b[1;33m\u001b[0m\u001b[0m\n\u001b[0;32m      8\u001b[0m     \u001b[0mimg\u001b[0m\u001b[1;33m=\u001b[0m \u001b[0mx_train\u001b[0m\u001b[1;33m[\u001b[0m\u001b[0mrandom_num\u001b[0m\u001b[1;33m]\u001b[0m\u001b[1;33m\u001b[0m\u001b[1;33m\u001b[0m\u001b[0m\n\u001b[1;32m----> 9\u001b[1;33m     \u001b[0mwindow_num\u001b[0m \u001b[1;33m=\u001b[0m  \u001b[0mstr\u001b[0m\u001b[1;33m(\u001b[0m\u001b[1;34m'Random Sample # '\u001b[0m\u001b[1;33m+\u001b[0m \u001b[0mstr\u001b[0m\u001b[1;33m[\u001b[0m\u001b[0mi\u001b[0m\u001b[1;33m]\u001b[0m\u001b[1;33m)\u001b[0m\u001b[1;33m\u001b[0m\u001b[1;33m\u001b[0m\u001b[0m\n\u001b[0m\u001b[0;32m     10\u001b[0m     \u001b[0mcv2\u001b[0m\u001b[1;33m.\u001b[0m\u001b[0mimshow\u001b[0m\u001b[1;33m(\u001b[0m\u001b[0mwindow_num\u001b[0m\u001b[1;33m,\u001b[0m\u001b[0mimg\u001b[0m\u001b[1;33m)\u001b[0m\u001b[1;33m\u001b[0m\u001b[1;33m\u001b[0m\u001b[0m\n\u001b[0;32m     11\u001b[0m     \u001b[0mcv2\u001b[0m\u001b[1;33m.\u001b[0m\u001b[0mwaitKey\u001b[0m\u001b[1;33m(\u001b[0m\u001b[1;36m0\u001b[0m\u001b[1;33m)\u001b[0m\u001b[1;33m\u001b[0m\u001b[1;33m\u001b[0m\u001b[0m\n",
      "\u001b[1;31mTypeError\u001b[0m: 'type' object is not subscriptable"
     ]
    }
   ],
   "source": [
    "#Now lets take a look at some of images of our dataset\n",
    "#It will show 6 random images from our dataset\n",
    "import cv2\n",
    "import numpy as np\n",
    "\n",
    "for i in range(0,6):\n",
    "    random_num = np.random.randint(0,len(x_train))\n",
    "    img= x_train[random_num]\n",
    "    window_num =  str('Random Sample # '+ str[i])\n",
    "    cv2.imshow(window_num,img)\n",
    "    cv2.waitKey(0)\n",
    "    \n",
    "cv2.destroyAllWindows()"
   ]
  },
  {
   "cell_type": "code",
   "execution_count": 5,
   "metadata": {},
   "outputs": [
    {
     "name": "stderr",
     "output_type": "stream",
     "text": [
      "In F:\\anaconda\\lib\\site-packages\\matplotlib\\mpl-data\\stylelib\\_classic_test.mplstyle: \n",
      "The text.latex.preview rcparam was deprecated in Matplotlib 3.3 and will be removed two minor releases later.\n",
      "In F:\\anaconda\\lib\\site-packages\\matplotlib\\mpl-data\\stylelib\\_classic_test.mplstyle: \n",
      "The mathtext.fallback_to_cm rcparam was deprecated in Matplotlib 3.3 and will be removed two minor releases later.\n",
      "In F:\\anaconda\\lib\\site-packages\\matplotlib\\mpl-data\\stylelib\\_classic_test.mplstyle: Support for setting the 'mathtext.fallback_to_cm' rcParam is deprecated since 3.3 and will be removed two minor releases later; use 'mathtext.fallback : 'cm' instead.\n",
      "In F:\\anaconda\\lib\\site-packages\\matplotlib\\mpl-data\\stylelib\\_classic_test.mplstyle: \n",
      "The validate_bool_maybe_none function was deprecated in Matplotlib 3.3 and will be removed two minor releases later.\n",
      "In F:\\anaconda\\lib\\site-packages\\matplotlib\\mpl-data\\stylelib\\_classic_test.mplstyle: \n",
      "The savefig.jpeg_quality rcparam was deprecated in Matplotlib 3.3 and will be removed two minor releases later.\n",
      "In F:\\anaconda\\lib\\site-packages\\matplotlib\\mpl-data\\stylelib\\_classic_test.mplstyle: \n",
      "The keymap.all_axes rcparam was deprecated in Matplotlib 3.3 and will be removed two minor releases later.\n",
      "In F:\\anaconda\\lib\\site-packages\\matplotlib\\mpl-data\\stylelib\\_classic_test.mplstyle: \n",
      "The animation.avconv_path rcparam was deprecated in Matplotlib 3.3 and will be removed two minor releases later.\n",
      "In F:\\anaconda\\lib\\site-packages\\matplotlib\\mpl-data\\stylelib\\_classic_test.mplstyle: \n",
      "The animation.avconv_args rcparam was deprecated in Matplotlib 3.3 and will be removed two minor releases later.\n"
     ]
    },
    {
     "data": {
      "image/png": "[encoded data removed]",
      "text/plain": [
       "<Figure size 432x288 with 6 Axes>"
      ]
     },
     "metadata": {
      "needs_background": "light"
     },
     "output_type": "display_data"
    }
   ],
   "source": [
    "#We can even plot it using matplotlib\n",
    "\n",
    "import matplotlib.pyplot as plt\n",
    "import numpy as np\n",
    "plt.subplot(331)\n",
    "random_num=np.random.randint(0,len(x_train))\n",
    "plt.imshow(x_train[random_num],cmap=plt.get_cmap('gray'))\n",
    "\n",
    "plt.subplot(332)\n",
    "random_num=np.random.randint(0,len(x_train))\n",
    "plt.imshow(x_train[random_num],cmap=plt.get_cmap('gray'))\n",
    "\n",
    "plt.subplot(333)\n",
    "random_num=np.random.randint(0,len(x_train))\n",
    "plt.imshow(x_train[random_num],cmap=plt.get_cmap('gray'))\n",
    "\n",
    "plt.subplot(334)\n",
    "random_num=np.random.randint(0,len(x_train))\n",
    "plt.imshow(x_train[random_num],cmap=plt.get_cmap('gray'))\n",
    "\n",
    "plt.subplot(335)\n",
    "random_num=np.random.randint(0,len(x_train))\n",
    "plt.imshow(x_train[random_num],cmap=plt.get_cmap('gray'))\n",
    "\n",
    "plt.subplot(336)\n",
    "random_num=np.random.randint(0,len(x_train))\n",
    "plt.imshow(x_train[random_num],cmap=plt.get_cmap('gray'))\n",
    "\n",
    "plt.show()"
   ]
  },
  {
   "cell_type": "code",
   "execution_count": 6,
   "metadata": {},
   "outputs": [
    {
     "name": "stdout",
     "output_type": "stream",
     "text": [
      "28\n",
      "x_train shape (60000, 28, 28, 1)\n",
      "60000 train samples\n",
      "10000 test samples\n"
     ]
    }
   ],
   "source": [
    "#Now lets prepare our datset for training\n",
    "\n",
    "img_rows=x_train[0].shape[0]\n",
    "\n",
    "img_cols=x_train[1].shape[0]\n",
    "print(img_cols)\n",
    "\n",
    "#Getting our date in the right 'shape' needed for keras\n",
    "#We need to add a 4th dimesion to our data thereby changing our\n",
    "#Our original image of (60000,28,28) to (60000,28,28,1)\n",
    "#where 1 i color encoding ie grayscale\n",
    "\n",
    "x_train =  x_train.reshape(x_train.shape[0],img_rows,img_cols,1)\n",
    "x_test =  x_test.reshape(x_test.shape[0],img_rows,img_cols,1)\n",
    "\n",
    "#Share the shape of a single image\n",
    "\n",
    "input_shape=(img_rows,img_cols,1)\n",
    "\n",
    "#change our unput shape to a single image\n",
    "x_train= x_train.astype('float32')\n",
    "x_test=x_test.astype('float32')\n",
    "\n",
    "#Normalize our data by changing the range from (0 to 255) to (0 to 1)\n",
    "x_train/=255\n",
    "x_test/=255\n",
    "\n",
    "print('x_train shape',x_train.shape)\n",
    "print(x_train.shape[0],'train samples')\n",
    "print(x_test.shape[0],'test samples')"
   ]
  },
  {
   "cell_type": "code",
   "execution_count": 7,
   "metadata": {},
   "outputs": [
    {
     "name": "stdout",
     "output_type": "stream",
     "text": [
      "Number of classes : 10\n"
     ]
    }
   ],
   "source": [
    "#Now lets do one hot encoding on our labels\n",
    "from keras.utils import np_utils\n",
    "y_train =  np_utils.to_categorical(y_train)\n",
    "y_test =  np_utils.to_categorical(y_test)\n",
    "\n",
    "print(\"Number of classes : \"+ str(y_test.shape[1]))\n",
    "\n",
    "num_classes = y_test.shape[1]\n",
    "num_pixels = x_train.shape[1] + x_train.shape[2]"
   ]
  },
  {
   "cell_type": "code",
   "execution_count": 8,
   "metadata": {},
   "outputs": [
    {
     "name": "stdout",
     "output_type": "stream",
     "text": [
      "Model: \"sequential_1\"\n",
      "_________________________________________________________________\n",
      "Layer (type)                 Output Shape              Param #   \n",
      "=================================================================\n",
      "conv2d_1 (Conv2D)            (None, 26, 26, 32)        320       \n",
      "_________________________________________________________________\n",
      "max_pooling2d_1 (MaxPooling2 (None, 13, 13, 32)        0         \n",
      "_________________________________________________________________\n",
      "dropout_1 (Dropout)          (None, 13, 13, 32)        0         \n",
      "_________________________________________________________________\n",
      "flatten_1 (Flatten)          (None, 5408)              0         \n",
      "_________________________________________________________________\n",
      "dense_1 (Dense)              (None, 128)               692352    \n",
      "_________________________________________________________________\n",
      "dropout_2 (Dropout)          (None, 128)               0         \n",
      "_________________________________________________________________\n",
      "dense_2 (Dense)              (None, 10)                1290      \n",
      "=================================================================\n",
      "Total params: 693,962\n",
      "Trainable params: 693,962\n",
      "Non-trainable params: 0\n",
      "_________________________________________________________________\n",
      "None\n"
     ]
    }
   ],
   "source": [
    "#Now lets build our model\n",
    "import keras\n",
    "from keras.datasets import mnist\n",
    "from keras.models import Sequential\n",
    "from keras.layers import Dense,Dropout,Flatten\n",
    "from keras.layers import Conv2D,MaxPooling2D\n",
    "from keras import backend as K\n",
    "from keras.optimizers import SGD\n",
    "\n",
    "#create model\n",
    "model=Sequential()\n",
    "\n",
    "model.add(Conv2D(32,(3,3),activation='relu',input_shape=input_shape))\n",
    "model.add(MaxPooling2D(pool_size=(2,2)))\n",
    "model.add(Dropout(0.25))\n",
    "model.add(Flatten())\n",
    "model.add(Dense(128,activation='relu'))\n",
    "model.add(Dropout(0.5))\n",
    "model.add(Dense(num_classes,activation='softmax'))\n",
    "\n",
    "model.compile(loss='categorical_crossentropy',optimizer=SGD(0.01),metrics=['accuracy'])\n",
    "\n",
    "print(model.summary())#will give the hidden layer and summary of our neural network/"
   ]
  },
  {
   "cell_type": "code",
   "execution_count": 9,
   "metadata": {},
   "outputs": [
    {
     "name": "stdout",
     "output_type": "stream",
     "text": [
      "Train on 60000 samples, validate on 10000 samples\n",
      "Epoch 1/10\n",
      "60000/60000 [==============================] - 54s 895us/step - loss: 0.6872 - accuracy: 0.7883 - val_loss: 0.2471 - val_accuracy: 0.9294\n",
      "Epoch 2/10\n",
      "60000/60000 [==============================] - 54s 894us/step - loss: 0.3568 - accuracy: 0.8922 - val_loss: 0.1870 - val_accuracy: 0.9448\n",
      "Epoch 3/10\n",
      "60000/60000 [==============================] - 57s 946us/step - loss: 0.2983 - accuracy: 0.9101 - val_loss: 0.1555 - val_accuracy: 0.9553\n",
      "Epoch 4/10\n",
      "60000/60000 [==============================] - 55s 922us/step - loss: 0.2694 - accuracy: 0.9209 - val_loss: 0.1375 - val_accuracy: 0.9593\n",
      "Epoch 5/10\n",
      "60000/60000 [==============================] - 52s 874us/step - loss: 0.2414 - accuracy: 0.9269 - val_loss: 0.1251 - val_accuracy: 0.9641\n",
      "Epoch 6/10\n",
      "60000/60000 [==============================] - 52s 872us/step - loss: 0.2245 - accuracy: 0.9330 - val_loss: 0.1140 - val_accuracy: 0.9663\n",
      "Epoch 7/10\n",
      "60000/60000 [==============================] - 52s 865us/step - loss: 0.2087 - accuracy: 0.9384 - val_loss: 0.1080 - val_accuracy: 0.9666\n",
      "Epoch 8/10\n",
      "60000/60000 [==============================] - 52s 865us/step - loss: 0.1963 - accuracy: 0.9420 - val_loss: 0.1002 - val_accuracy: 0.9711\n",
      "Epoch 9/10\n",
      "60000/60000 [==============================] - 52s 863us/step - loss: 0.1842 - accuracy: 0.9453 - val_loss: 0.0933 - val_accuracy: 0.9715\n",
      "Epoch 10/10\n",
      "60000/60000 [==============================] - 52s 862us/step - loss: 0.1749 - accuracy: 0.9478 - val_loss: 0.0873 - val_accuracy: 0.9733\n",
      "Test loss:  0.08729333021529019\n",
      "Test accuracy :  0.9732999801635742\n"
     ]
    }
   ],
   "source": [
    "batch_size=32\n",
    "epochs=10\n",
    "\n",
    "history=model.fit(x_train,\n",
    "                  y_train,\n",
    "                 batch_size=batch_size,\n",
    "                 epochs=epochs,\n",
    "                 verbose=1,\n",
    "                 validation_data=(x_test,y_test))\n",
    "\n",
    "score=model.evaluate(x_test,y_test,verbose=0)\n",
    "print(\"Test loss: \",score[0])\n",
    "print(\"Test accuracy : \",score[1])\n"
   ]
  },
  {
   "cell_type": "code",
   "execution_count": 10,
   "metadata": {},
   "outputs": [
    {
     "data": {
      "image/png": "[encoded data removed]",
      "text/plain": [
       "<Figure size 432x288 with 1 Axes>"
      ]
     },
     "metadata": {
      "needs_background": "light"
     },
     "output_type": "display_data"
    }
   ],
   "source": [
    "#Now lets plot our loss and accuracy charts\n",
    "\n",
    "import matplotlib.pyplot as plt\n",
    "\n",
    "history_dict=history.history\n",
    "\n",
    "loss_values=history_dict['loss']\n",
    "val_loss_values=history_dict['val_loss']\n",
    "epochs = range(1,len(loss_values)+1)\n",
    "\n",
    "line1 = plt.plot(epochs,val_loss_values,label='Validation/Test Loss')\n",
    "line2 = plt.plot(epochs,loss_values,label='Training_loss')\n",
    "\n",
    "plt.setp(line1,linewidth=2.0,marker='+',markersize=10.0)\n",
    "plt.setp(line2,linewidth=2.0,marker='4',markersize=10.0)\n",
    "plt.xlabel('Epochs')\n",
    "plt.ylabel('Loss')\n",
    "plt.grid(True)\n",
    "plt.legend()\n",
    "plt.show()"
   ]
  },
  {
   "cell_type": "code",
   "execution_count": 11,
   "metadata": {},
   "outputs": [
    {
     "ename": "SyntaxError",
     "evalue": "EOL while scanning string literal (<ipython-input-11-e1c83e143431>, line 2)",
     "output_type": "error",
     "traceback": [
      "\u001b[1;36m  File \u001b[1;32m\"<ipython-input-11-e1c83e143431>\"\u001b[1;36m, line \u001b[1;32m2\u001b[0m\n\u001b[1;33m    model.save('C:/Users/ayush/Deep Learning/Keras/model.h5\")\u001b[0m\n\u001b[1;37m                                                             ^\u001b[0m\n\u001b[1;31mSyntaxError\u001b[0m\u001b[1;31m:\u001b[0m EOL while scanning string literal\n"
     ]
    }
   ],
   "source": []
  },
  {
   "cell_type": "code",
   "execution_count": 13,
   "metadata": {},
   "outputs": [
    {
     "name": "stdout",
     "output_type": "stream",
     "text": [
      "Saved model to disk\n"
     ]
    }
   ],
   "source": [
    "model_json = model.to_json()\n",
    "with open(\"model.json\", \"w\") as json_file:\n",
    "    json_file.write(model_json)\n",
    "# serialize weights to HDF5\n",
    "model.save_weights(\"model.h5\")\n",
    "print(\"Saved model to disk\")"
   ]
  },
  {
   "cell_type": "code",
   "execution_count": 20,
   "metadata": {},
   "outputs": [
    {
     "name": "stdout",
     "output_type": "stream",
     "text": [
      "Loaded model from disk\n"
     ]
    }
   ],
   "source": [
    "from keras.models import model_from_json\n",
    "json_file = open('model.json', 'r')\n",
    "loaded_model_json = json_file.read()\n",
    "json_file.close()\n",
    "classifier = model_from_json(loaded_model_json)\n",
    "# load weights into new model\n",
    "classifier.load_weights(\"model.h5\")\n",
    "print(\"Loaded model from disk\")"
   ]
  },
  {
   "cell_type": "code",
   "execution_count": 27,
   "metadata": {},
   "outputs": [],
   "source": [
    "#Now lets input some of our test data into our classifier\n",
    "\n",
    "import cv2\n",
    "import numpy as np\n",
    "def draw(name,pred,input_in):\n",
    "    BLACK=[0,0,0]\n",
    "    expanded_image=cv2.copyMakeBorder(input_in,0,0,0,imageL.shape[0],cv2.BORDER_CONSTANT,value=BLACK)\n",
    "    expanded_image=cv2.cvtColor(expanded_image,cv2.COLOR_GRAY2BGR)\n",
    "    cv2.putText(expanded_image,str(pred),(152,70),cv2.FONT_HERSHEY_COMPLEX_SMALL,4,(0,255,0),2)\n",
    "    cv2.imshow(name,expanded_image)\n",
    "    \n",
    "for i in range(0,10):\n",
    "    rand=np.random.randint(0,len(x_test))\n",
    "    input_in=x_test[rand]\n",
    "    \n",
    "    imageL=cv2.resize(input_in,None,fx=4,fy=4,interpolation=cv2.INTER_CUBIC)\n",
    "    input_in=input_in.reshape([1,28,28,1])\n",
    "    \n",
    "    res=str(classifier.predict_classes(input_in,1,verbose=0)[0])\n",
    "    \n",
    "    draw('Prediction',res,imageL)\n",
    "    cv2.waitKey(0)\n",
    "    \n",
    "cv2.destroyAllWindows()"
   ]
  },
  {
   "cell_type": "code",
   "execution_count": null,
   "metadata": {},
   "outputs": [],
   "source": []
  }
 ],
 "metadata": {
  "kernelspec": {
   "display_name": "Python 3",
   "language": "python",
   "name": "python3"
  },
  "language_info": {
   "codemirror_mode": {
    "name": "ipython",
    "version": 3
   },
   "file_extension": ".py",
   "mimetype": "text/x-python",
   "name": "python",
   "nbconvert_exporter": "python",
   "pygments_lexer": "ipython3",
   "version": "3.7.6"
  }
 },
 "nbformat": 4,
 "nbformat_minor": 4
}
